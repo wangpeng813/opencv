{
 "cells": [
  {
   "cell_type": "code",
   "execution_count": 1,
   "metadata": {},
   "outputs": [],
   "source": [
    "import cv2 as cv \n",
    "import matplotlib.pyplot as plt\n",
    "%matplotlib inline\n",
    "import numpy as np"
   ]
  },
  {
   "cell_type": "code",
   "execution_count": 17,
   "metadata": {},
   "outputs": [
    {
     "name": "stdout",
     "output_type": "stream",
     "text": [
      "--------hello python--------\n",
      "(264, 296, 3)\n"
     ]
    }
   ],
   "source": [
    "#开操作作用，去除小的干扰块\n",
    "#闭操作作用，填充闭合区域\n",
    "#提取水平或垂直线\n",
    "def open_demo(image):#腐蚀+膨胀\n",
    "    print(image.shape)\n",
    "    gray=cv.cvtColor(image,cv.COLOR_BGR2GRAY)\n",
    "    ret,binary=cv.threshold(gray,0,255,cv.THRESH_BINARY_INV|cv.THRESH_OTSU)\n",
    "    cv.imshow('binary image',binary)\n",
    "    #kernel=cv.getStructuringElement(cv.MORPH_RECT,(10,10))\n",
    "    #kernel=cv.getStructuringElement(cv.MORPH_RECT,(5,1))#提取水平线\n",
    "    kernel=cv.getStructuringElement(cv.MORPH_RECT,(1,15))#提取竖直线\n",
    "    binary=cv.morphologyEx(binary,cv.MORPH_OPEN,kernel)\n",
    "    cv.imshow('open result',binary)\n",
    "    \n",
    "def close_demo(image):#膨胀+腐蚀\n",
    "    print(image.shape)\n",
    "    gray=cv.cvtColor(image,cv.COLOR_BGR2GRAY)\n",
    "    ret,binary=cv.threshold(gray,0,255,cv.THRESH_BINARY|cv.THRESH_OTSU)\n",
    "    cv.imshow('binary image',binary)\n",
    "    kernel=cv.getStructuringElement(cv.MORPH_RECT,(5,5))\n",
    "    binary=cv.morphologyEx(binary,cv.MORPH_CLOSE,kernel)\n",
    "    cv.imshow('close result',binary)\n",
    "\n",
    "\n",
    "\n",
    "\n",
    "\n",
    "\n",
    "print(\"--------hello python--------\")\n",
    "src=cv.imread('./xian.png')\n",
    "cv.namedWindow('input image',cv.WINDOW_AUTOSIZE)\n",
    "cv.imshow('input image',src)\n",
    "open_demo(src)\n",
    "cv.waitKey(0)\n",
    "\n",
    "cv.destroyAllWindows()"
   ]
  },
  {
   "cell_type": "code",
   "execution_count": null,
   "metadata": {},
   "outputs": [],
   "source": []
  }
 ],
 "metadata": {
  "kernelspec": {
   "display_name": "Python 3",
   "language": "python",
   "name": "python3"
  },
  "language_info": {
   "codemirror_mode": {
    "name": "ipython",
    "version": 3
   },
   "file_extension": ".py",
   "mimetype": "text/x-python",
   "name": "python",
   "nbconvert_exporter": "python",
   "pygments_lexer": "ipython3",
   "version": "3.6.3"
  }
 },
 "nbformat": 4,
 "nbformat_minor": 2
}
