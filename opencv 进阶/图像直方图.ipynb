{
 "cells": [
  {
   "cell_type": "code",
   "execution_count": 1,
   "metadata": {},
   "outputs": [],
   "source": [
    "import cv2 as cv \n",
    "import matplotlib.pyplot as plt\n",
    "%matplotlib inline\n",
    "import numpy as np"
   ]
  },
  {
   "cell_type": "code",
   "execution_count": 4,
   "metadata": {},
   "outputs": [
    {
     "name": "stdout",
     "output_type": "stream",
     "text": [
      "--------hello python--------\n"
     ]
    },
    {
     "data": {
      "image/png": "[encoded data removed]",
      "text/plain": [
       "<matplotlib.figure.Figure at 0x18041ce4f60>"
      ]
     },
     "metadata": {},
     "output_type": "display_data"
    }
   ],
   "source": [
    "def plot_demo(image):\n",
    "    plt.hist(image.ravel(),256,[0,256])\n",
    "    plt.show('直方图')\n",
    "\n",
    "\n",
    "\n",
    "\n",
    "print(\"--------hello python--------\")\n",
    "src=cv.imread('./lena.jpg')\n",
    "cv.namedWindow('input image',cv.WINDOW_AUTOSIZE)\n",
    "cv.imshow('input image',src)\n",
    "plot_demo(src)\n",
    "cv.waitKey(0)\n",
    "\n",
    "cv.destroyAllWindows()\n",
    "        "
   ]
  },
  {
   "cell_type": "code",
   "execution_count": 2,
   "metadata": {},
   "outputs": [
    {
     "name": "stdout",
     "output_type": "stream",
     "text": [
      "--------hello python--------\n"
     ]
    }
   ],
   "source": [
    "#直方图均衡化，用来图像增强\n",
    "#全局的直方图均衡化，增加图像对比度\n",
    "def equalHist_demo(image):\n",
    "    gray=cv.cvtColor(image,cv.COLOR_BGR2GRAY)\n",
    "    dst=cv.equalizeHist(gray)\n",
    "    cv.imshow('equalHist_demo',dst)\n",
    "#局部的直方图均衡化\n",
    "def clahe_demo(image):\n",
    "    gray=cv.cvtColor(image,cv.COLOR_BGR2GRAY)\n",
    "    clahe=cv.createCLAHE(clipLimit=5.0,tileGridSize=(8,8))\n",
    "    dst=clahe.apply(gray)\n",
    "    cv.imshow('clahe_demo',dst)\n",
    "\n",
    "\n",
    "\n",
    "\n",
    "\n",
    "\n",
    "print(\"--------hello python--------\")\n",
    "src=cv.imread('./lena.jpg')\n",
    "cv.namedWindow('input image',cv.WINDOW_AUTOSIZE)\n",
    "cv.imshow('input image',src)\n",
    "equalHist_demo(src)\n",
    "clahe_demo(src)\n",
    "cv.waitKey(0)\n",
    "\n",
    "cv.destroyAllWindows()"
   ]
  },
  {
   "cell_type": "code",
   "execution_count": 6,
   "metadata": {},
   "outputs": [
    {
     "name": "stdout",
     "output_type": "stream",
     "text": [
      "--------hello python--------\n",
      "巴氏距离：0.9877316334736447,相关性：-0.004785104301800886,卡方：283500.14816163585\n"
     ]
    }
   ],
   "source": [
    "#通过直方图比较两张图片\n",
    "def create_rgb_hist(image):\n",
    "    h,w,c=image.shape\n",
    "    rgbHist=np.zeros([16*16*16,1],np.float32)\n",
    "    bsize=256/16\n",
    "    for row in range(h):\n",
    "        for col in range(w):\n",
    "            b=image[row,col,0]\n",
    "            g=image[row,col,1]\n",
    "            r=image[row,col,2]\n",
    "            index=np.int(b/bsize)*16*16+np.int(g/bsize)*16+np.int(r/bsize)\n",
    "            rgbHist[np.int(index),0]=rgbHist[np.int(index),0]+1\n",
    "    return rgbHist \n",
    "\n",
    "def hist_compare(m1,m2):\n",
    "    hist1=create_rgb_hist(m1)\n",
    "    hist2=create_rgb_hist(m2)\n",
    "    match1=cv.compareHist(hist1,hist2,cv.HISTCMP_BHATTACHARYYA)\n",
    "    match2=cv.compareHist(hist1,hist2,cv.HISTCMP_CORREL)\n",
    "    match3=cv.compareHist(hist1,hist2,cv.HISTCMP_CHISQR)\n",
    "    print('巴氏距离：%s,相关性：%s,卡方：%s'%(match1,match2,match3))\n",
    "\n",
    "\n",
    "\n",
    "\n",
    "\n",
    "\n",
    "print(\"--------hello python--------\")\n",
    "src=cv.imread('./lena.jpg')\n",
    "cv.namedWindow('input image',cv.WINDOW_AUTOSIZE)\n",
    "cv.imshow('input image',src)\n",
    "image1=cv.imread('./lena.jpg')\n",
    "image2=cv.imread('./windows.jpg')\n",
    "hist_compare(image1,image2)\n",
    "cv.waitKey(0)\n",
    "\n",
    "cv.destroyAllWindows()"
   ]
  },
  {
   "cell_type": "code",
   "execution_count": null,
   "metadata": {},
   "outputs": [],
   "source": []
  }
 ],
 "metadata": {
  "kernelspec": {
   "display_name": "Python 3",
   "language": "python",
   "name": "python3"
  },
  "language_info": {
   "codemirror_mode": {
    "name": "ipython",
    "version": 3
   },
   "file_extension": ".py",
   "mimetype": "text/x-python",
   "name": "python",
   "nbconvert_exporter": "python",
   "pygments_lexer": "ipython3",
   "version": "3.6.3"
  }
 },
 "nbformat": 4,
 "nbformat_minor": 2
}
