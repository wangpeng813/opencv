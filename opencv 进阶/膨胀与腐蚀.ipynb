{
 "cells": [
  {
   "cell_type": "code",
   "execution_count": 1,
   "metadata": {},
   "outputs": [],
   "source": [
    "import cv2 as cv \n",
    "import matplotlib.pyplot as plt\n",
    "%matplotlib inline\n",
    "import numpy as np"
   ]
  },
  {
   "cell_type": "code",
   "execution_count": 13,
   "metadata": {},
   "outputs": [
    {
     "name": "stdout",
     "output_type": "stream",
     "text": [
      "--------hello python--------\n"
     ]
    }
   ],
   "source": [
    "#膨胀可以平滑对象边缘，减少或者填充对象之间的距离\n",
    "#腐蚀可以平滑对象的边缘，弱化或者分割图像之间的半岛型连接\n",
    "#腐蚀\n",
    "def erode_demo(image):\n",
    "    print(image.shape)\n",
    "    gray=cv.cvtColor(image,cv.COLOR_BGR2GRAY)\n",
    "    ret,binary=cv.threshold(gray,0,255,cv.THRESH_BINARY|cv.THRESH_OTSU)\n",
    "    cv.imshow('binary image',binary)\n",
    "    kernel=cv.getStructuringElement(cv.MORPH_RECT,(3,3))#结构元素，控制腐蚀程度\n",
    "    dst=cv.erode(binary,kernel)\n",
    "    cv.imshow('erode image',dst)\n",
    "#膨胀\n",
    "def dilate_demo(image):\n",
    "    print(image.shape)\n",
    "    gray=cv.cvtColor(image,cv.COLOR_BGR2GRAY)\n",
    "    ret,binary=cv.threshold(gray,0,255,cv.THRESH_BINARY|cv.THRESH_OTSU)\n",
    "    cv.imshow('binary image',binary)\n",
    "    kernel=cv.getStructuringElement(cv.MORPH_RECT,(3,3))#结构元素，控制腐蚀程度\n",
    "    dst=cv.dilate(binary,kernel)\n",
    "    cv.imshow('erode image',dst)\n",
    "\n",
    "\n",
    "\n",
    "\n",
    "print(\"--------hello python--------\")\n",
    "src=cv.imread('./lena.jpg')\n",
    "cv.namedWindow('input image',cv.WINDOW_AUTOSIZE)\n",
    "cv.imshow('input image',src)\n",
    "#膨胀与腐蚀不光支持灰度图像，也支持彩色图像\n",
    "#kernel=cv.getStructuringElement(cv.MORPH_RECT,(3,3))\n",
    "#dst=cv.erode(src,kernel)\n",
    "#cv.imshow('result',dst)\n",
    "cv.waitKey(0)\n",
    "\n",
    "cv.destroyAllWindows()"
   ]
  },
  {
   "cell_type": "code",
   "execution_count": null,
   "metadata": {},
   "outputs": [],
   "source": []
  }
 ],
 "metadata": {
  "kernelspec": {
   "display_name": "Python 3",
   "language": "python",
   "name": "python3"
  },
  "language_info": {
   "codemirror_mode": {
    "name": "ipython",
    "version": 3
   },
   "file_extension": ".py",
   "mimetype": "text/x-python",
   "name": "python",
   "nbconvert_exporter": "python",
   "pygments_lexer": "ipython3",
   "version": "3.6.3"
  }
 },
 "nbformat": 4,
 "nbformat_minor": 2
}
