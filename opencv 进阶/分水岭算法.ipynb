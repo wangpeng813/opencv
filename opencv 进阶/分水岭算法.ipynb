{
 "cells": [
  {
   "cell_type": "code",
   "execution_count": 3,
   "metadata": {},
   "outputs": [],
   "source": [
    "import cv2 as cv \n",
    "import matplotlib.pyplot as plt\n",
    "%matplotlib inline\n",
    "import numpy as np"
   ]
  },
  {
   "cell_type": "code",
   "execution_count": 13,
   "metadata": {},
   "outputs": [
    {
     "name": "stdout",
     "output_type": "stream",
     "text": [
      "--------hello python--------\n",
      "(438, 694, 3)\n",
      "4\n"
     ]
    }
   ],
   "source": [
    "#形态学操作，去噪声\n",
    "def watershed_demo(image):\n",
    "    print(image.shape)\n",
    "    #remove noise\n",
    "    blurred=cv.pyrMeanShiftFiltering(image,10,100)\n",
    "    #gray/binary image\n",
    "    gray=cv.cvtColor(blurred,cv.COLOR_BGR2GRAY)\n",
    "    ret,binary=cv.threshold(gray,0,255,cv.THRESH_BINARY|cv.THRESH_OTSU)\n",
    "    cv.imshow('binary image',binary)\n",
    "    \n",
    "    #morphology operation\n",
    "    kernel=cv.getStructuringElement(cv.MORPH_RECT,(3,3))\n",
    "    mb=cv.morphologyEx(binary,cv.MORPH_OPEN,kernel,iterations=2)\n",
    "    sure_bg=cv.dilate(mb,kernel,iterations=3)\n",
    "    cv.imshow('mor-opt',sure_bg)\n",
    "    \n",
    "    #distance transform\n",
    "    dist=cv.distanceTransform(mb,cv.DIST_L2,3)\n",
    "    dist_output=cv.normalize(dist,0,1.0,cv.NORM_MINMAX)\n",
    "    cv.imshow('distance-t',dist_output*50)\n",
    "    \n",
    "    ret,surface=cv.threshold(dist,dist.max()*0.1,255,cv.THRESH_BINARY)\n",
    "    cv.imshow('surface-bin',surface)\n",
    "    \n",
    "    surface_fg=np.uint8(surface)\n",
    "    unknown=cv.subtract(sure_bg,surface_fg)\n",
    "    ret,markers=cv.connectedComponents(surface_fg)\n",
    "    print(ret)\n",
    "    \n",
    "    #watershed transform\n",
    "    markers=markers+1\n",
    "    markers[unknown==255]=0\n",
    "    markers=cv.watershed(image,markers=markers)\n",
    "    image[markers==-1]=[0,0,255]\n",
    "    cv.imshow('result',image)\n",
    "\n",
    "\n",
    "\n",
    "print(\"--------hello python--------\")\n",
    "src=cv.imread('./coins.jpg')\n",
    "cv.namedWindow('input image',cv.WINDOW_AUTOSIZE)\n",
    "cv.imshow('input image',src)\n",
    "watershed_demo(src)\n",
    "cv.waitKey(0)\n",
    "\n",
    "cv.destroyAllWindows()"
   ]
  },
  {
   "cell_type": "code",
   "execution_count": null,
   "metadata": {},
   "outputs": [],
   "source": []
  }
 ],
 "metadata": {
  "kernelspec": {
   "display_name": "Python 3",
   "language": "python",
   "name": "python3"
  },
  "language_info": {
   "codemirror_mode": {
    "name": "ipython",
    "version": 3
   },
   "file_extension": ".py",
   "mimetype": "text/x-python",
   "name": "python",
   "nbconvert_exporter": "python",
   "pygments_lexer": "ipython3",
   "version": "3.6.3"
  }
 },
 "nbformat": 4,
 "nbformat_minor": 2
}
