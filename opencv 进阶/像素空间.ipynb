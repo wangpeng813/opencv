{
 "cells": [
  {
   "cell_type": "code",
   "execution_count": 2,
   "metadata": {},
   "outputs": [],
   "source": [
    "import cv2 as cv \n",
    "import matplotlib.pyplot as plt\n",
    "%matplotlib inline\n",
    "import numpy as np"
   ]
  },
  {
   "cell_type": "code",
   "execution_count": null,
   "metadata": {},
   "outputs": [
    {
     "name": "stdout",
     "output_type": "stream",
     "text": [
      "--------hello python--------\n"
     ]
    }
   ],
   "source": [
    "#像素相加\n",
    "def add_demo(m1,m2):\n",
    "    dst=cv.add(m1,m2)\n",
    "    cv.imshow('add_demo',dst)\n",
    "#像素相减\n",
    "def subtract_demo(m1,m2):\n",
    "    dst=cv.subtract(m1,m2)\n",
    "    cv.imshow('subtract_demo',dst)\n",
    "#像素相除\n",
    "def divide_demo(m1,m2):\n",
    "    dst=cv.divide(m1,m2)\n",
    "    cv.imshow('subtract_demo',dst)\n",
    "#像素相乘\n",
    "def multiply_demo(m1,m2):\n",
    "    dst=cv.multiply(m1,m2)\n",
    "    cv.imshow('subtract_demo',dst)\n",
    "#均值\n",
    "def others(m1,m2):\n",
    "    m1=cv.mean(m1)\n",
    "    m2=cv.mean(m2)\n",
    "    print(m1)\n",
    "    print(m2)\n",
    "#逻辑与运算\n",
    "def logic_and_demo(m1,m2):\n",
    "    dst=cv.bitwise_and(m1,m2)\n",
    "    cv.imshow('logic_demo',dst)\n",
    "#逻辑非运算\n",
    "def logic_not_demo(m1):\n",
    "    dst=cv.bitwise_not(m1)\n",
    "    cv.imshow('logic_demo',dst)\n",
    "\n",
    "\n",
    "print(\"--------hello python--------\")\n",
    "src1=cv.imread('./linux.jpg')\n",
    "src2=cv.imread('./windows.jpg')\n",
    "\n",
    "cv.imshow('image1',src1)\n",
    "cv.imshow('image2',src2)\n",
    "\n",
    "logic_not_demo(src2)\n",
    "\n",
    "cv.waitKey(0)\n",
    "cv.destroyAllWindows()\n",
    "    "
   ]
  },
  {
   "cell_type": "code",
   "execution_count": null,
   "metadata": {},
   "outputs": [],
   "source": [
    "\n",
    "\n",
    "\n",
    "    "
   ]
  }
 ],
 "metadata": {
  "kernelspec": {
   "display_name": "Python 3",
   "language": "python",
   "name": "python3"
  },
  "language_info": {
   "codemirror_mode": {
    "name": "ipython",
    "version": 3
   },
   "file_extension": ".py",
   "mimetype": "text/x-python",
   "name": "python",
   "nbconvert_exporter": "python",
   "pygments_lexer": "ipython3",
   "version": "3.6.3"
  }
 },
 "nbformat": 4,
 "nbformat_minor": 2
}
