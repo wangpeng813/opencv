{
 "cells": [
  {
   "cell_type": "code",
   "execution_count": 1,
   "metadata": {},
   "outputs": [],
   "source": [
    "import cv2 as cv \n",
    "import matplotlib.pyplot as plt\n",
    "%matplotlib inline\n",
    "import numpy as np"
   ]
  },
  {
   "cell_type": "code",
   "execution_count": 2,
   "metadata": {},
   "outputs": [
    {
     "name": "stdout",
     "output_type": "stream",
     "text": [
      "--------hello python--------\n"
     ]
    }
   ],
   "source": [
    "#均值模糊，中值模糊，自定义模糊\n",
    "#去噪作用\n",
    "def blur_demo(image):\n",
    "    dst=cv.blur(image,(1,15))\n",
    "    cv.imshow('blur_demo',dst)\n",
    "def median_blur_demo(image):\n",
    "    dst=cv.medianblur(image,5)\n",
    "    cv.imshow('median_blur_demo',dst)\n",
    "def custom_blur_demo(image):\n",
    "    #kernel=np.ones([5,5],np.float32)/25\n",
    "    #锐化算子\n",
    "    kernel=np.array([[0,-1,0],[-1,5,-1],[0,-1,0]],np.float32)\n",
    "    dst=cv.filter2D(image,-1,kernel=kernel)\n",
    "    cv.imshow('custom_blur_demo',dst)\n",
    "#高斯模糊\n",
    "#高斯噪声\n",
    "def gaussian_noise(image):\n",
    "    h,w,c=image.shape\n",
    "    for row in range(h):\n",
    "        for col in range(w):\n",
    "            s=np.random.normal(0,20,3)\n",
    "            b=image[row,col,0]\n",
    "            g=image[row,col,1]\n",
    "            r=image[row,col,2]\n",
    "            image[row,col,0]=clamp(b+s[0])\n",
    "            image[row,col,1]=clamp(g+s[1])\n",
    "            image[row,col,2]=clamp(r+s[2])\n",
    "    cv.imshow('noise image',image)\n",
    "def clamp(pv):\n",
    "    if pv>255:\n",
    "        return 255\n",
    "    if pv<0:\n",
    "        return 0\n",
    "    else:\n",
    "        return pv\n",
    "\n",
    "\n",
    "print(\"--------hello python--------\")\n",
    "src=cv.imread('./lena.jpg')\n",
    "cv.namedWindow('input image',cv.WINDOW_AUTOSIZE)\n",
    "cv.imshow('input image',src)\n",
    "gaussian_noise(src)\n",
    "dst=cv.GaussianBlur(src,(5,5),0)\n",
    "cv.imshow('Gaussian Blur',dst)\n",
    "cv.waitKey(0)\n",
    "\n",
    "cv.destroyAllWindows()\n",
    "        "
   ]
  },
  {
   "cell_type": "code",
   "execution_count": null,
   "metadata": {},
   "outputs": [],
   "source": []
  }
 ],
 "metadata": {
  "kernelspec": {
   "display_name": "Python 3",
   "language": "python",
   "name": "python3"
  },
  "language_info": {
   "codemirror_mode": {
    "name": "ipython",
    "version": 3
   },
   "file_extension": ".py",
   "mimetype": "text/x-python",
   "name": "python",
   "nbconvert_exporter": "python",
   "pygments_lexer": "ipython3",
   "version": "3.6.3"
  }
 },
 "nbformat": 4,
 "nbformat_minor": 2
}
