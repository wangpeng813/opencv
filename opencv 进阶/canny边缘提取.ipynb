{
 "cells": [
  {
   "cell_type": "code",
   "execution_count": 1,
   "metadata": {},
   "outputs": [],
   "source": [
    "import cv2 as cv \n",
    "import matplotlib.pyplot as plt\n",
    "%matplotlib inline\n",
    "import numpy as np"
   ]
  },
  {
   "cell_type": "code",
   "execution_count": 2,
   "metadata": {},
   "outputs": [
    {
     "name": "stdout",
     "output_type": "stream",
     "text": [
      "--------hello python--------\n"
     ]
    }
   ],
   "source": [
    "def edge_demo(image):\n",
    "    blurred=cv.GaussianBlur(image,(3,3),0)\n",
    "    gray=cv.cvtColor(blurred,cv.COLOR_BGR2GRAY)\n",
    "    grad_x=cv.Sobel(gray,cv.CV_16SC1,1,0)\n",
    "    grad_y=cv.Sobel(gray,cv.CV_16SC1,0,1)\n",
    "    edge_output=cv.Canny(grad_x,grad_y,50,150)\n",
    "    cv.imshow('Canny Edge',edge_output)\n",
    "    \n",
    "    dst=cv.bitwise_and(image,image,mask=edge_output)\n",
    "    cv.imshow('Color Edge',dst)\n",
    "\n",
    "\n",
    "\n",
    "\n",
    "\n",
    "print(\"--------hello python--------\")\n",
    "src=cv.imread('./lena.jpg')\n",
    "cv.namedWindow('input image',cv.WINDOW_AUTOSIZE)\n",
    "cv.imshow('input image',src)\n",
    "edge_demo(src)\n",
    "cv.waitKey(0)\n",
    "\n",
    "cv.destroyAllWindows()"
   ]
  },
  {
   "cell_type": "code",
   "execution_count": null,
   "metadata": {},
   "outputs": [],
   "source": []
  }
 ],
 "metadata": {
  "kernelspec": {
   "display_name": "Python 3",
   "language": "python",
   "name": "python3"
  },
  "language_info": {
   "codemirror_mode": {
    "name": "ipython",
    "version": 3
   },
   "file_extension": ".py",
   "mimetype": "text/x-python",
   "name": "python",
   "nbconvert_exporter": "python",
   "pygments_lexer": "ipython3",
   "version": "3.6.3"
  }
 },
 "nbformat": 4,
 "nbformat_minor": 2
}
