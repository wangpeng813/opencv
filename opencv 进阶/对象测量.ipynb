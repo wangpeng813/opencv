{
 "cells": [
  {
   "cell_type": "code",
   "execution_count": 1,
   "metadata": {},
   "outputs": [],
   "source": [
    "import cv2 as cv \n",
    "import matplotlib.pyplot as plt\n",
    "%matplotlib inline\n",
    "import numpy as np"
   ]
  },
  {
   "cell_type": "code",
   "execution_count": 5,
   "metadata": {
    "collapsed": true
   },
   "outputs": [
    {
     "name": "stdout",
     "output_type": "stream",
     "text": [
      "--------hello python--------\n",
      "threshold value:63.0\n",
      "contour area:13078.0\n",
      "contour area:9870.0\n",
      "contour area:7707.0\n",
      "contour area:4096.0\n",
      "contour area:14478.0\n",
      "contour area:2371.0\n",
      "contour area:7548.0\n",
      "contour area:4931.0\n",
      "contour area:528.5\n",
      "contour area:2689.0\n",
      "contour area:1617.0\n",
      "contour area:3403.0\n",
      "contour area:8576.5\n",
      "contour area:8836.0\n",
      "contour area:711.0\n",
      "contour area:1615.5\n",
      "contour area:1.0\n"
     ]
    }
   ],
   "source": [
    "def measure_object(image):\n",
    "    gray=cv.cvtColor(image,cv.COLOR_BGR2GRAY)\n",
    "    ret,binary=cv.threshold(gray,0,255,cv.THRESH_BINARY|cv.THRESH_OTSU)\n",
    "    print('threshold value:%s'%ret)\n",
    "    cv.imshow('binary image',binary)\n",
    "    contours,hireachy=cv.findContours(binary,cv.RETR_EXTERNAL,cv.CHAIN_APPROX_SIMPLE)\n",
    "    for i,contour in enumerate(contours):\n",
    "        area=cv.contourArea(contour)\n",
    "        x,y,w,h=cv.boundingRect(contour)\n",
    "        mm=cv.moments(contour)\n",
    "        type(mm)\n",
    "        cx=mm['m10']/mm['m00']\n",
    "        cy=mm['m01']/mm['m00']\n",
    "        cv.circle(image,(np.int(cx),np.int(cy)),3,(0,0,255),-1)\n",
    "        cv.rectangle(image,(x,y),(x+w,y+h),(0,0,255),2)\n",
    "        print('contour area:%s'%area)\n",
    "    cv.imshow('measure_contours',image)\n",
    "\n",
    "\n",
    "\n",
    "\n",
    "\n",
    "\n",
    "print(\"--------hello python--------\")\n",
    "src=cv.imread('./detect_blob.png')\n",
    "cv.namedWindow('input image',cv.WINDOW_AUTOSIZE)\n",
    "cv.imshow('input image',src)\n",
    "measure_object(src)\n",
    "cv.waitKey(0)\n",
    "\n",
    "cv.destroyAllWindows()"
   ]
  },
  {
   "cell_type": "code",
   "execution_count": null,
   "metadata": {},
   "outputs": [],
   "source": []
  }
 ],
 "metadata": {
  "kernelspec": {
   "display_name": "Python 3",
   "language": "python",
   "name": "python3"
  },
  "language_info": {
   "codemirror_mode": {
    "name": "ipython",
    "version": 3
   },
   "file_extension": ".py",
   "mimetype": "text/x-python",
   "name": "python",
   "nbconvert_exporter": "python",
   "pygments_lexer": "ipython3",
   "version": "3.6.3"
  }
 },
 "nbformat": 4,
 "nbformat_minor": 2
}
