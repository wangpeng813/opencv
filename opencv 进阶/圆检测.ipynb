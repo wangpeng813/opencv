{
 "cells": [
  {
   "cell_type": "code",
   "execution_count": 9,
   "metadata": {},
   "outputs": [],
   "source": [
    "import cv2 as cv \n",
    "import matplotlib.pyplot as plt\n",
    "%matplotlib inline\n",
    "import numpy as np"
   ]
  },
  {
   "cell_type": "code",
   "execution_count": 10,
   "metadata": {},
   "outputs": [
    {
     "name": "stdout",
     "output_type": "stream",
     "text": [
      "--------hello python--------\n"
     ]
    }
   ],
   "source": [
    "def detect_circles(image):\n",
    "    #检测之前先去除噪声\n",
    "    dst=cv.pyrMeanShiftFiltering(image,10,100)\n",
    "    cimage=cv.cvtColor(dst,cv.COLOR_BGR2GRAY)\n",
    "    circles=cv.HoughCircles(cimage,cv.HOUGH_GRADIENT,1,20,param1=80,param2=20,minRadius=0,maxRadius=0)\n",
    "    circles=np.uint16(np.around(circles))\n",
    "    for i in circles[0,:]:\n",
    "        cv.circle(image,(i[0],i[1]),i[2],(0,0,255),2)\n",
    "        cv.circle(image,(i[0],i[1]),2,(0,0,255),2)\n",
    "    cv.imshow('circles',image)\n",
    "\n",
    "\n",
    "\n",
    "\n",
    "\n",
    "\n",
    "\n",
    "\n",
    "print(\"--------hello python--------\")\n",
    "src=cv.imread('./smarties.png')\n",
    "cv.namedWindow('input image',cv.WINDOW_AUTOSIZE)\n",
    "cv.imshow('input image',src)\n",
    "detect_circles(src)\n",
    "cv.waitKey(0)\n",
    "\n",
    "cv.destroyAllWindows()"
   ]
  },
  {
   "cell_type": "code",
   "execution_count": null,
   "metadata": {},
   "outputs": [],
   "source": []
  }
 ],
 "metadata": {
  "kernelspec": {
   "display_name": "Python 3",
   "language": "python",
   "name": "python3"
  },
  "language_info": {
   "codemirror_mode": {
    "name": "ipython",
    "version": 3
   },
   "file_extension": ".py",
   "mimetype": "text/x-python",
   "name": "python",
   "nbconvert_exporter": "python",
   "pygments_lexer": "ipython3",
   "version": "3.6.3"
  }
 },
 "nbformat": 4,
 "nbformat_minor": 2
}
