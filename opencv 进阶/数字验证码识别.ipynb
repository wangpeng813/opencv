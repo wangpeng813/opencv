{
 "cells": [
  {
   "cell_type": "code",
   "execution_count": 12,
   "metadata": {},
   "outputs": [],
   "source": [
    "import cv2 as cv \n",
    "import matplotlib.pyplot as plt\n",
    "%matplotlib inline\n",
    "import numpy as np\n",
    "from PIL import Image\n",
    "import pytesseract as tess"
   ]
  },
  {
   "cell_type": "code",
   "execution_count": 16,
   "metadata": {},
   "outputs": [
    {
     "name": "stdout",
     "output_type": "stream",
     "text": [
      "--------hello python--------\n",
      "识别结果：N93 Am\n"
     ]
    }
   ],
   "source": [
    "#预处理：去除干扰线和点\n",
    "#不同的结构元素中选择\n",
    "#image与numpy array相互转换\n",
    "#识别与输出\n",
    "def recognize_text(image):\n",
    "    blurred=cv.pyrMeanShiftFiltering(image,10,100)\n",
    "    #gray/binary image\n",
    "    gray=cv.cvtColor(blurred,cv.COLOR_BGR2GRAY)\n",
    "    ret,binary=cv.threshold(gray,0,255,cv.THRESH_BINARY_INV|cv.THRESH_OTSU)\n",
    "    kernel=cv.getStructuringElement(cv.MORPH_RECT,(1,5))\n",
    "    bin1=cv.morphologyEx(binary,cv.MORPH_OPEN,kernel)\n",
    "    kernel=cv.getStructuringElement(cv.MORPH_RECT,(5,1))\n",
    "    open_out=cv.morphologyEx(bin1,cv.MORPH_OPEN,kernel)\n",
    "    cv.imshow('binary image',open_out)\n",
    "    \n",
    "    cv.bitwise_not(open_out,open_out)\n",
    "    textImage=Image.fromarray(open_out)\n",
    "    text=tess.image_to_string(textImage)\n",
    "    print('识别结果：%s'%text)\n",
    "\n",
    "\n",
    "\n",
    "\n",
    "\n",
    "\n",
    "print(\"--------hello python--------\")\n",
    "src=cv.imread('./1.jpg')\n",
    "cv.namedWindow('input image',cv.WINDOW_AUTOSIZE)\n",
    "cv.imshow('input image',src)\n",
    "recognize_text(src)\n",
    "cv.waitKey(0)\n",
    "\n",
    "cv.destroyAllWindows()"
   ]
  },
  {
   "cell_type": "code",
   "execution_count": null,
   "metadata": {},
   "outputs": [],
   "source": []
  },
  {
   "cell_type": "code",
   "execution_count": null,
   "metadata": {},
   "outputs": [],
   "source": []
  }
 ],
 "metadata": {
  "kernelspec": {
   "display_name": "Python 3",
   "language": "python",
   "name": "python3"
  },
  "language_info": {
   "codemirror_mode": {
    "name": "ipython",
    "version": 3
   },
   "file_extension": ".py",
   "mimetype": "text/x-python",
   "name": "python",
   "nbconvert_exporter": "python",
   "pygments_lexer": "ipython3",
   "version": "3.6.3"
  }
 },
 "nbformat": 4,
 "nbformat_minor": 2
}
