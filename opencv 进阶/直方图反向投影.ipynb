{
 "cells": [
  {
   "cell_type": "code",
   "execution_count": 3,
   "metadata": {},
   "outputs": [],
   "source": [
    "import cv2 as cv \n",
    "import matplotlib.pyplot as plt\n",
    "%matplotlib inline\n",
    "import numpy as np"
   ]
  },
  {
   "cell_type": "code",
   "execution_count": 6,
   "metadata": {},
   "outputs": [
    {
     "name": "stdout",
     "output_type": "stream",
     "text": [
      "--------hello python--------\n"
     ]
    }
   ],
   "source": [
    "#2D直方图显示\n",
    "def hist2d_demo(image):\n",
    "    hsv=cv.cvtColor(image,cv.COLOR_BGR2HSV)\n",
    "    hist=cv.calcHist([image],[0,1],None,[180,256],[0,180,0,256])\n",
    "    plt.imshow(hist,interpolation='nearest')\n",
    "    plt.title('2D Histogram')\n",
    "    plt.show()\n",
    "#反向投影，追踪目标\n",
    "def back_projection_demo():\n",
    "    sample=cv.imread('./sample.jpg')\n",
    "    target=cv.imread('./target.jpg')\n",
    "    roi_hsv=cv.cvtColor(sample,cv.COLOR_BGR2HSV)\n",
    "    target_hsv=cv.cvtColor(target,cv.COLOR_BGR2HSV)\n",
    "    \n",
    "    cv.imshow('sample',sample)\n",
    "    cv.imshow('target',target)\n",
    "    \n",
    "    roiHist=cv.calcHist([roi_hsv],[0,1],None,[32,32],[0,180,0,256])\n",
    "    cv.normalize(roiHist,roiHist,0,255,cv.NORM_MINMAX)\n",
    "    dst=cv.calcBackProject([target_hsv],[0,1],roiHist,[0,180,0,256],1)\n",
    "    cv.imshow('backProjectDemo',dst)\n",
    "    \n",
    "\n",
    "\n",
    "\n",
    "\n",
    "\n",
    "\n",
    "\n",
    "\n",
    "\n",
    "print(\"--------hello python--------\")\n",
    "src=cv.imread('./lena.jpg')\n",
    "cv.namedWindow('input image',cv.WINDOW_AUTOSIZE)\n",
    "cv.imshow('input image',src)\n",
    "back_projection_demo()\n",
    "cv.waitKey(0)\n",
    "\n",
    "cv.destroyAllWindows()"
   ]
  },
  {
   "cell_type": "code",
   "execution_count": null,
   "metadata": {},
   "outputs": [],
   "source": []
  }
 ],
 "metadata": {
  "kernelspec": {
   "display_name": "Python 3",
   "language": "python",
   "name": "python3"
  },
  "language_info": {
   "codemirror_mode": {
    "name": "ipython",
    "version": 3
   },
   "file_extension": ".py",
   "mimetype": "text/x-python",
   "name": "python",
   "nbconvert_exporter": "python",
   "pygments_lexer": "ipython3",
   "version": "3.6.3"
  }
 },
 "nbformat": 4,
 "nbformat_minor": 2
}
