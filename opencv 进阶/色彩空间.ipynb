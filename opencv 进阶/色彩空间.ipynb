{
 "cells": [
  {
   "cell_type": "code",
   "execution_count": 10,
   "metadata": {},
   "outputs": [],
   "source": [
    "import cv2 as cv \n",
    "import matplotlib.pyplot as plt\n",
    "%matplotlib inline\n",
    "import numpy as np"
   ]
  },
  {
   "cell_type": "code",
   "execution_count": 6,
   "metadata": {},
   "outputs": [
    {
     "name": "stdout",
     "output_type": "stream",
     "text": [
      "--------hello python--------\n"
     ]
    }
   ],
   "source": [
    "#不同色彩空间的转换\n",
    "def color_space_demo(image):\n",
    "    gray=cv.cvtColor(image,cv.COLOR_BGR2GRAY)\n",
    "    cv.imshow('gray',gray)\n",
    "    hsv=cv.cvtColor(image,cv.COLOR_BGR2HSV)\n",
    "    cv.imshow('hsv',hsv)\n",
    "    yuv=cv.cvtColor(image,cv.COLOR_BGR2YUV)\n",
    "    cv.imshow('yuv',yuv)\n",
    "    Ycrcb=cv.cvtColor(image,cv.COLOR_BGR2YCrCb)\n",
    "    cv.imshow('Ycrcb',Ycrcb)\n",
    "    \n",
    "    \n",
    "    \n",
    "print(\"--------hello python--------\")\n",
    "src=cv.imread('./lena.jpg')\n",
    "cv.namedWindow('input image',cv.WINDOW_AUTOSIZE)\n",
    "cv.imshow('input image',src)\n",
    "color_space_demo(src)\n",
    "cv.waitKey(3000)\n",
    "\n",
    "cv.destroyAllWindows()\n",
    "    "
   ]
  },
  {
   "cell_type": "code",
   "execution_count": 2,
   "metadata": {},
   "outputs": [],
   "source": [
    "#追踪黄色，查表\n",
    "def extrace_object_demo():\n",
    "    capture=cv.VideoCapture('./boy.mp4')\n",
    "    while(True):\n",
    "        ret,frame=capture.read()\n",
    "        if ret==False:\n",
    "            break\n",
    "        hsv=cv.cvtColor(frame,cv.COLOR_BGR2HSV)\n",
    "        lower_hsv=np.array([26,43,46])\n",
    "        upper_hsv=np.array([34,255,255])\n",
    "        mask=cv.inRange(hsv,lowerb=lower_hsv,upperb=upper_hsv)\n",
    "        #cv.imshow('video',frame)\n",
    "        cv.imshow('mask',mask)\n",
    "        c=cv.waitKey(50)\n",
    "        if c==ord('q'):\n",
    "            break\n",
    "        \n",
    "extrace_object_demo()      \n",
    "        \n",
    "        \n",
    "        "
   ]
  },
  {
   "cell_type": "code",
   "execution_count": 9,
   "metadata": {},
   "outputs": [
    {
     "name": "stdout",
     "output_type": "stream",
     "text": [
      "--------hello python--------\n"
     ]
    }
   ],
   "source": [
    "\n",
    "print(\"--------hello python--------\")\n",
    "src=cv.imread('./lena.jpg')\n",
    "cv.namedWindow('input image',cv.WINDOW_AUTOSIZE)\n",
    "cv.imshow('input image',src)\n",
    "#显示三通道的图\n",
    "b,g,r=cv.split(src)\n",
    "cv.imshow('blue',b)\n",
    "cv.imshow('green',g)\n",
    "cv.imshow('red',r)\n",
    "#使红色通道为0\n",
    "src[:,:,2]=0\n",
    "cv.imshow(\"changed image\",src)\n",
    "\n",
    "\n",
    "cv.waitKey(3000)\n",
    "\n",
    "cv.destroyAllWindows()\n",
    "    \n",
    "\n"
   ]
  },
  {
   "cell_type": "code",
   "execution_count": null,
   "metadata": {},
   "outputs": [],
   "source": []
  }
 ],
 "metadata": {
  "kernelspec": {
   "display_name": "Python 3",
   "language": "python",
   "name": "python3"
  },
  "language_info": {
   "codemirror_mode": {
    "name": "ipython",
    "version": 3
   },
   "file_extension": ".py",
   "mimetype": "text/x-python",
   "name": "python",
   "nbconvert_exporter": "python",
   "pygments_lexer": "ipython3",
   "version": "3.6.3"
  }
 },
 "nbformat": 4,
 "nbformat_minor": 2
}
