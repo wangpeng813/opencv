{
 "cells": [
  {
   "cell_type": "code",
   "execution_count": 1,
   "metadata": {},
   "outputs": [],
   "source": [
    "import cv2 as cv \n",
    "import matplotlib.pyplot as plt\n",
    "%matplotlib inline\n",
    "import numpy as np"
   ]
  },
  {
   "cell_type": "code",
   "execution_count": 5,
   "metadata": {},
   "outputs": [
    {
     "name": "stdout",
     "output_type": "stream",
     "text": [
      "--------hello python--------\n"
     ]
    }
   ],
   "source": [
    "#彩色图像的填充\n",
    "def fill_color_demo(image):\n",
    "    copyImg=image.copy()\n",
    "    h,w=image.shape[:2]\n",
    "    mask=np.zeros([h+2,w+2],np.uint8)\n",
    "    cv.floodFill(copyImg,mask,(30,30),(0,255,255),(100,100,100),(50,50,50),cv.FLOODFILL_FIXED_RANGE)\n",
    "    cv.imshow('fill_color_demo',copyImg)\n",
    "#二值填充\n",
    "def fill_binary():\n",
    "    image=np.zeros([400,400,3],np.uint8)\n",
    "    image[100:300,100:300,:]=255 \n",
    "    cv.imshow('fill_binary',image)\n",
    "    #注意mask初始化为1，mask选填充区域初始化为0\n",
    "    mask=np.ones([402,402,1],np.uint8)\n",
    "    mask[101:301,101:301]=0\n",
    "    cv.floodFill(image,mask,(200,200),(0,0,255),cv.FLOODFILL_MASK_ONLY)\n",
    "    cv.imshow('filled image',image)\n",
    "\n",
    "\n",
    "\n",
    "print(\"--------hello python--------\")\n",
    "src=cv.imread('./lena.jpg')\n",
    "cv.namedWindow('input image',cv.WINDOW_AUTOSIZE)\n",
    "cv.imshow('input image',src)\n",
    "\n",
    "fill_binary()\n",
    "\n",
    "\n",
    "\n",
    "cv.waitKey(0)\n",
    "\n",
    "cv.destroyAllWindows()\n",
    "    "
   ]
  },
  {
   "cell_type": "code",
   "execution_count": null,
   "metadata": {},
   "outputs": [],
   "source": []
  }
 ],
 "metadata": {
  "kernelspec": {
   "display_name": "Python 3",
   "language": "python",
   "name": "python3"
  },
  "language_info": {
   "codemirror_mode": {
    "name": "ipython",
    "version": 3
   },
   "file_extension": ".py",
   "mimetype": "text/x-python",
   "name": "python",
   "nbconvert_exporter": "python",
   "pygments_lexer": "ipython3",
   "version": "3.6.3"
  }
 },
 "nbformat": 4,
 "nbformat_minor": 2
}
